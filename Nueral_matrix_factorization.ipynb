{
 "cells": [
  {
   "cell_type": "code",
   "execution_count": 1,
   "metadata": {},
   "outputs": [],
   "source": [
    "from pathlib import Path\n",
    "import pandas as pd\n",
    "import numpy as np"
   ]
  },
  {
   "cell_type": "markdown",
   "metadata": {},
   "source": [
    "#### Lets build a recommender system on the MovieLens dataset"
   ]
  },
  {
   "cell_type": "code",
   "execution_count": 2,
   "metadata": {},
   "outputs": [],
   "source": [
    "import torch\n",
    "import torch.nn as nn\n",
    "import torch.nn.functional as F\n",
    "from sklearn.model_selection import train_test_split\n",
    "from torch.utils.data import Dataset\n",
    "from torch.utils.data import DataLoader\n",
    "\n",
    "from tqdm import tqdm\n"
   ]
  },
  {
   "cell_type": "code",
   "execution_count": 3,
   "metadata": {},
   "outputs": [
    {
     "name": "stdout",
     "output_type": "stream",
     "text": [
      "196\t242\t3\t881250949\n",
      "186\t302\t3\t891717742\n",
      "22\t377\t1\t878887116\n",
      "244\t51\t2\t880606923\n",
      "166\t346\t1\t886397596\n",
      "298\t474\t4\t884182806\n",
      "115\t265\t2\t881171488\n",
      "253\t465\t5\t891628467\n",
      "305\t451\t3\t886324817\n",
      "6\t86\t3\t883603013\n"
     ]
    }
   ],
   "source": [
    "! head data/ml-100k/u.data"
   ]
  },
  {
   "cell_type": "code",
   "execution_count": 4,
   "metadata": {},
   "outputs": [
    {
     "data": {
      "text/html": [
       "<div>\n",
       "<style scoped>\n",
       "    .dataframe tbody tr th:only-of-type {\n",
       "        vertical-align: middle;\n",
       "    }\n",
       "\n",
       "    .dataframe tbody tr th {\n",
       "        vertical-align: top;\n",
       "    }\n",
       "\n",
       "    .dataframe thead th {\n",
       "        text-align: right;\n",
       "    }\n",
       "</style>\n",
       "<table border=\"1\" class=\"dataframe\">\n",
       "  <thead>\n",
       "    <tr style=\"text-align: right;\">\n",
       "      <th></th>\n",
       "      <th>user_id</th>\n",
       "      <th>item_id</th>\n",
       "      <th>rating</th>\n",
       "      <th>timestamp</th>\n",
       "    </tr>\n",
       "  </thead>\n",
       "  <tbody>\n",
       "    <tr>\n",
       "      <th>0</th>\n",
       "      <td>196</td>\n",
       "      <td>242</td>\n",
       "      <td>3</td>\n",
       "      <td>881250949</td>\n",
       "    </tr>\n",
       "    <tr>\n",
       "      <th>1</th>\n",
       "      <td>186</td>\n",
       "      <td>302</td>\n",
       "      <td>3</td>\n",
       "      <td>891717742</td>\n",
       "    </tr>\n",
       "    <tr>\n",
       "      <th>2</th>\n",
       "      <td>22</td>\n",
       "      <td>377</td>\n",
       "      <td>1</td>\n",
       "      <td>878887116</td>\n",
       "    </tr>\n",
       "    <tr>\n",
       "      <th>3</th>\n",
       "      <td>244</td>\n",
       "      <td>51</td>\n",
       "      <td>2</td>\n",
       "      <td>880606923</td>\n",
       "    </tr>\n",
       "    <tr>\n",
       "      <th>4</th>\n",
       "      <td>166</td>\n",
       "      <td>346</td>\n",
       "      <td>1</td>\n",
       "      <td>886397596</td>\n",
       "    </tr>\n",
       "  </tbody>\n",
       "</table>\n",
       "</div>"
      ],
      "text/plain": [
       "   user_id  item_id  rating  timestamp\n",
       "0      196      242       3  881250949\n",
       "1      186      302       3  891717742\n",
       "2       22      377       1  878887116\n",
       "3      244       51       2  880606923\n",
       "4      166      346       1  886397596"
      ]
     },
     "execution_count": 4,
     "metadata": {},
     "output_type": "execute_result"
    }
   ],
   "source": [
    "# import the ml100k dataset\n",
    "df = pd.read_csv('data/ml-100k/u.data', sep='\\t', header=None, names=['user_id', 'item_id', 'rating', 'timestamp'])\n",
    "df.head()"
   ]
  },
  {
   "cell_type": "code",
   "execution_count": 5,
   "metadata": {},
   "outputs": [
    {
     "name": "stdout",
     "output_type": "stream",
     "text": [
      "943\n",
      "1682\n"
     ]
    },
    {
     "data": {
      "text/plain": [
       "(None, None)"
      ]
     },
     "execution_count": 5,
     "metadata": {},
     "output_type": "execute_result"
    }
   ],
   "source": [
    "# count the number of unique users and items\n",
    "print(df.user_id.unique().shape[0]), print(df.item_id.unique().shape[0])"
   ]
  },
  {
   "cell_type": "code",
   "execution_count": 6,
   "metadata": {},
   "outputs": [
    {
     "name": "stdout",
     "output_type": "stream",
     "text": [
      "100000\n"
     ]
    }
   ],
   "source": [
    "# number of ratings\n",
    "print(df.shape[0])"
   ]
  },
  {
   "cell_type": "code",
   "execution_count": 7,
   "metadata": {},
   "outputs": [],
   "source": [
    "# split the data into train and test sets\n",
    "train, test = train_test_split(df, test_size=0.2, random_state=42)"
   ]
  },
  {
   "cell_type": "code",
   "execution_count": 8,
   "metadata": {},
   "outputs": [],
   "source": [
    "# instead, lets create a function which creates a dictionary of user ids and item ids\n",
    "def create_user_item_dict(df):\n",
    "    user_ids = df.user_id.unique().tolist()\n",
    "    item_ids = df.item_id.unique().tolist()\n",
    "    user2idx = {o:i for i,o in enumerate(user_ids)}\n",
    "    item2idx = {o:i for i,o in enumerate(item_ids)}\n",
    "    return user2idx, item2idx"
   ]
  },
  {
   "cell_type": "code",
   "execution_count": 9,
   "metadata": {},
   "outputs": [],
   "source": [
    "# get the user and item dictionaries\n",
    "user2idx, item2idx = create_user_item_dict(train)"
   ]
  },
  {
   "cell_type": "code",
   "execution_count": 10,
   "metadata": {},
   "outputs": [
    {
     "data": {
      "text/html": [
       "<div>\n",
       "<style scoped>\n",
       "    .dataframe tbody tr th:only-of-type {\n",
       "        vertical-align: middle;\n",
       "    }\n",
       "\n",
       "    .dataframe tbody tr th {\n",
       "        vertical-align: top;\n",
       "    }\n",
       "\n",
       "    .dataframe thead th {\n",
       "        text-align: right;\n",
       "    }\n",
       "</style>\n",
       "<table border=\"1\" class=\"dataframe\">\n",
       "  <thead>\n",
       "    <tr style=\"text-align: right;\">\n",
       "      <th></th>\n",
       "      <th>user_id</th>\n",
       "      <th>item_id</th>\n",
       "      <th>rating</th>\n",
       "      <th>timestamp</th>\n",
       "    </tr>\n",
       "  </thead>\n",
       "  <tbody>\n",
       "    <tr>\n",
       "      <th>75220</th>\n",
       "      <td>807</td>\n",
       "      <td>1411</td>\n",
       "      <td>1</td>\n",
       "      <td>893082619</td>\n",
       "    </tr>\n",
       "    <tr>\n",
       "      <th>48955</th>\n",
       "      <td>474</td>\n",
       "      <td>659</td>\n",
       "      <td>5</td>\n",
       "      <td>887925187</td>\n",
       "    </tr>\n",
       "    <tr>\n",
       "      <th>44966</th>\n",
       "      <td>463</td>\n",
       "      <td>268</td>\n",
       "      <td>4</td>\n",
       "      <td>877384940</td>\n",
       "    </tr>\n",
       "    <tr>\n",
       "      <th>13568</th>\n",
       "      <td>139</td>\n",
       "      <td>286</td>\n",
       "      <td>4</td>\n",
       "      <td>879537844</td>\n",
       "    </tr>\n",
       "    <tr>\n",
       "      <th>92727</th>\n",
       "      <td>621</td>\n",
       "      <td>751</td>\n",
       "      <td>4</td>\n",
       "      <td>883799651</td>\n",
       "    </tr>\n",
       "  </tbody>\n",
       "</table>\n",
       "</div>"
      ],
      "text/plain": [
       "       user_id  item_id  rating  timestamp\n",
       "75220      807     1411       1  893082619\n",
       "48955      474      659       5  887925187\n",
       "44966      463      268       4  877384940\n",
       "13568      139      286       4  879537844\n",
       "92727      621      751       4  883799651"
      ]
     },
     "execution_count": 10,
     "metadata": {},
     "output_type": "execute_result"
    }
   ],
   "source": [
    "train.head()"
   ]
  },
  {
   "cell_type": "code",
   "execution_count": 11,
   "metadata": {},
   "outputs": [],
   "source": [
    "# create a dataset class that does the encoding too\n",
    "class MovieLensDataset(Dataset):\n",
    "    def __init__(self, df, user2idx, item2idx):\n",
    "        self.users = df.user_id.values\n",
    "        self.items = df.item_id.values\n",
    "        self.ratings = df.rating.values\n",
    "        self.user2idx = user2idx\n",
    "        self.item2idx = item2idx\n",
    "        \n",
    "    def __len__(self):\n",
    "        return len(self.users)\n",
    "    \n",
    "    def __getitem__(self, idx):\n",
    "        user = self.user2idx.get(self.users[idx], -1)\n",
    "        item = self.item2idx.get(self.items[idx], -1)\n",
    "        rating = self.ratings[idx]\n",
    "        return user, item, rating"
   ]
  },
  {
   "cell_type": "code",
   "execution_count": 12,
   "metadata": {},
   "outputs": [],
   "source": [
    "# initialize the dataset\n",
    "train_ds = MovieLensDataset(train, user2idx, item2idx)\n",
    "test_ds = MovieLensDataset(test, user2idx, item2idx)"
   ]
  },
  {
   "cell_type": "code",
   "execution_count": 13,
   "metadata": {},
   "outputs": [
    {
     "data": {
      "text/plain": [
       "(0, 0, 1)"
      ]
     },
     "execution_count": 13,
     "metadata": {},
     "output_type": "execute_result"
    }
   ],
   "source": [
    "#check the dataset class\n",
    "train_ds[0]\n"
   ]
  },
  {
   "cell_type": "code",
   "execution_count": 14,
   "metadata": {},
   "outputs": [],
   "source": [
    "\n",
    "# create a dataloader\n",
    "\n",
    "train_dl = DataLoader(train_ds, batch_size=1024, shuffle=True)\n",
    "test_dl = DataLoader(test_ds, batch_size=1024, shuffle=False)\n"
   ]
  },
  {
   "cell_type": "code",
   "execution_count": 15,
   "metadata": {},
   "outputs": [
    {
     "data": {
      "text/plain": [
       "[tensor([786, 417, 242,  ..., 382, 348, 390]),\n",
       " tensor([173, 478, 154,  ..., 374, 455, 272]),\n",
       " tensor([3, 2, 2,  ..., 4, 3, 4])]"
      ]
     },
     "execution_count": 15,
     "metadata": {},
     "output_type": "execute_result"
    }
   ],
   "source": [
    "next(iter(train_dl))"
   ]
  },
  {
   "cell_type": "code",
   "execution_count": 18,
   "metadata": {},
   "outputs": [
    {
     "name": "stdout",
     "output_type": "stream",
     "text": [
      "mps\n"
     ]
    }
   ],
   "source": [
    "device = torch.device(\"cuda\" if torch.cuda.is_available() else \"mps\" if torch.has_mps else \"cpu\")\n",
    "print(device)"
   ]
  },
  {
   "cell_type": "markdown",
   "metadata": {},
   "source": [
    "### i. Trying Simple Matrix Factorization model\n",
    "- Here Embedding layer is used to learn the latent factors"
   ]
  },
  {
   "cell_type": "code",
   "execution_count": 38,
   "metadata": {},
   "outputs": [],
   "source": [
    "# create a model class\n",
    "class MatrixFactorization(nn.Module):\n",
    "    def __init__(self, n_users, n_items, n_factors=40):\n",
    "        super().__init__()\n",
    "        self.user_factors = nn.Embedding(n_users, n_factors)\n",
    "        self.item_factors = nn.Embedding(n_items, n_factors)\n",
    "        #initialize the embeddings, this is important. Else, model can struggle to learn\n",
    "        nn.init.normal_(self.user_factors.weight, std=0.01)\n",
    "        nn.init.normal_(self.item_factors.weight, std=0.01)\n",
    "        \n",
    "    def forward(self, user, item):\n",
    "        return (self.user_factors(user) * self.item_factors(item)).sum(1)"
   ]
  },
  {
   "cell_type": "code",
   "execution_count": 39,
   "metadata": {},
   "outputs": [],
   "source": [
    "\n",
    "# initialize the model\n",
    "model = MatrixFactorization(len(user2idx), len(item2idx), n_factors=60).to(device)\n",
    "\n",
    "# define the loss function. We will use mean squared error because we are predicting ratings\n",
    "# if we were predicting a binary outcome, we would use binary cross entropy\n",
    "criterion = nn.MSELoss()\n",
    "\n",
    "# define the optimizer\n",
    "optimizer = torch.optim.SGD(model.parameters(), lr=1e-2)\n",
    "\n",
    "# define the number of epochs\n",
    "epochs = 20"
   ]
  },
  {
   "cell_type": "code",
   "execution_count": 40,
   "metadata": {},
   "outputs": [
    {
     "data": {
      "text/plain": [
       "79"
      ]
     },
     "execution_count": 40,
     "metadata": {},
     "output_type": "execute_result"
    }
   ],
   "source": [
    "# no of batches\n",
    "len(train_dl)\n"
   ]
  },
  {
   "cell_type": "code",
   "execution_count": 41,
   "metadata": {},
   "outputs": [
    {
     "name": "stderr",
     "output_type": "stream",
     "text": [
      "Epoch 0, Loss: 13.0230: 100%|██████████| 79/79 [00:00<00:00, 120.79it/s]\n",
      "Epoch 1, Loss: 14.2037: 100%|██████████| 79/79 [00:00<00:00, 126.59it/s]\n",
      "Epoch 2, Loss: 14.8197: 100%|██████████| 79/79 [00:00<00:00, 130.84it/s]\n",
      "Epoch 3, Loss: 13.8361: 100%|██████████| 79/79 [00:00<00:00, 126.19it/s]\n",
      "Epoch 4, Loss: 14.0629: 100%|██████████| 79/79 [00:00<00:00, 127.42it/s]\n",
      "Epoch 5, Loss: 13.8282: 100%|██████████| 79/79 [00:00<00:00, 120.67it/s]\n",
      "Epoch 6, Loss: 13.3747: 100%|██████████| 79/79 [00:00<00:00, 120.88it/s]\n",
      "Epoch 7, Loss: 13.8676: 100%|██████████| 79/79 [00:00<00:00, 121.34it/s]\n",
      "Epoch 8, Loss: 12.7109: 100%|██████████| 79/79 [00:00<00:00, 123.39it/s]\n",
      "Epoch 9, Loss: 13.7339: 100%|██████████| 79/79 [00:00<00:00, 119.36it/s]\n",
      "Epoch 10, Loss: 14.3827: 100%|██████████| 79/79 [00:00<00:00, 126.05it/s]\n",
      "Epoch 11, Loss: 13.9675: 100%|██████████| 79/79 [00:00<00:00, 128.62it/s]\n",
      "Epoch 12, Loss: 13.0315: 100%|██████████| 79/79 [00:00<00:00, 130.17it/s]\n",
      "Epoch 13, Loss: 13.2345: 100%|██████████| 79/79 [00:00<00:00, 132.37it/s]\n",
      "Epoch 14, Loss: 13.9055: 100%|██████████| 79/79 [00:00<00:00, 116.59it/s]\n",
      "Epoch 15, Loss: 13.6411: 100%|██████████| 79/79 [00:00<00:00, 124.68it/s]\n",
      "Epoch 16, Loss: 13.0388: 100%|██████████| 79/79 [00:00<00:00, 132.79it/s]\n",
      "Epoch 17, Loss: 13.3205: 100%|██████████| 79/79 [00:00<00:00, 134.09it/s]\n",
      "Epoch 18, Loss: 13.2809: 100%|██████████| 79/79 [00:00<00:00, 96.16it/s] \n",
      "Epoch 19, Loss: 13.6246: 100%|██████████| 79/79 [00:00<00:00, 111.55it/s]\n"
     ]
    }
   ],
   "source": [
    "# train the model.\n",
    "# use the tqdm library to show the progress bar\n",
    "\n",
    "for epoch in range(epochs):\n",
    "    running_loss = 0.0\n",
    "    train_tqdm = tqdm(train_dl)\n",
    "    for i, data in enumerate(train_tqdm):\n",
    "        users, items, ratings = data\n",
    "        users = users.long().to(device)\n",
    "        items = items.long().to(device)\n",
    "        ratings = ratings.float().to(device)\n",
    "        \n",
    "        # zero the parameter gradients\n",
    "        optimizer.zero_grad()\n",
    "        \n",
    "        outputs = model(users, items)\n",
    "        loss = criterion(outputs, ratings)\n",
    "        loss.backward()\n",
    "        optimizer.step()\n",
    "        \n",
    "        running_loss += loss.item()\n",
    "        train_tqdm.set_description(f\"Epoch {epoch}, Loss: {loss.item():.4f}\")"
   ]
  },
  {
   "cell_type": "code",
   "execution_count": 42,
   "metadata": {},
   "outputs": [],
   "source": [
    "# predict the ratings for the test set\n",
    "y_true = []\n",
    "y_pred = []\n",
    "for i, data in enumerate(test_dl):\n",
    "    users, items, ratings = data\n",
    "    users = users.long().to(device)\n",
    "    items = items.long().to(device)\n",
    "    ratings = ratings.float().to(device)\n",
    "    \n",
    "    outputs = model(users, items)\n",
    "    y_true.extend(ratings.cpu().detach().numpy())\n",
    "    y_pred.extend(outputs.cpu().detach().numpy())"
   ]
  },
  {
   "cell_type": "code",
   "execution_count": 43,
   "metadata": {},
   "outputs": [
    {
     "data": {
      "text/plain": [
       "13.683395"
      ]
     },
     "execution_count": 43,
     "metadata": {},
     "output_type": "execute_result"
    }
   ],
   "source": [
    "# calculate the mean squared error\n",
    "from sklearn.metrics import mean_squared_error\n",
    "mean_squared_error(y_true, y_pred)\n"
   ]
  }
 ],
 "metadata": {
  "kernelspec": {
   "display_name": "Python 3.10.9 ('torch_2_env')",
   "language": "python",
   "name": "python3"
  },
  "language_info": {
   "codemirror_mode": {
    "name": "ipython",
    "version": 3
   },
   "file_extension": ".py",
   "mimetype": "text/x-python",
   "name": "python",
   "nbconvert_exporter": "python",
   "pygments_lexer": "ipython3",
   "version": "3.10.9"
  },
  "orig_nbformat": 4,
  "vscode": {
   "interpreter": {
    "hash": "8fb8b680fd183c223b836b79cdcb0f2f0334fe2549f7dc1091ef51ac1f51f680"
   }
  }
 },
 "nbformat": 4,
 "nbformat_minor": 2
}
